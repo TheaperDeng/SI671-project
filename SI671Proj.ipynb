{
 "cells": [
  {
   "cell_type": "code",
   "execution_count": 1,
   "metadata": {},
   "outputs": [],
   "source": [
    "import pandas as pd\n",
    "import matplotlib.pyplot as plt\n",
    "from math import log\n",
    "from collections import Counter"
   ]
  },
  {
   "cell_type": "code",
   "execution_count": 2,
   "metadata": {},
   "outputs": [],
   "source": [
    "df = pd.read_json('top_ai_subset.txt',encoding=\"utf-8\", lines=True)"
   ]
  },
  {
   "cell_type": "code",
   "execution_count": 3,
   "metadata": {},
   "outputs": [
    {
     "data": {
      "text/html": [
       "<div>\n",
       "<style scoped>\n",
       "    .dataframe tbody tr th:only-of-type {\n",
       "        vertical-align: middle;\n",
       "    }\n",
       "\n",
       "    .dataframe tbody tr th {\n",
       "        vertical-align: top;\n",
       "    }\n",
       "\n",
       "    .dataframe thead th {\n",
       "        text-align: right;\n",
       "    }\n",
       "</style>\n",
       "<table border=\"1\" class=\"dataframe\">\n",
       "  <thead>\n",
       "    <tr style=\"text-align: right;\">\n",
       "      <th></th>\n",
       "      <th>id</th>\n",
       "      <th>title</th>\n",
       "      <th>authors</th>\n",
       "      <th>venue</th>\n",
       "      <th>year</th>\n",
       "      <th>n_citation</th>\n",
       "      <th>page_start</th>\n",
       "      <th>page_end</th>\n",
       "      <th>doc_type</th>\n",
       "      <th>publisher</th>\n",
       "      <th>volume</th>\n",
       "      <th>issue</th>\n",
       "      <th>references</th>\n",
       "      <th>indexed_abstract</th>\n",
       "      <th>fos</th>\n",
       "      <th>doi</th>\n",
       "    </tr>\n",
       "  </thead>\n",
       "  <tbody>\n",
       "    <tr>\n",
       "      <th>0</th>\n",
       "      <td>100638832</td>\n",
       "      <td>Learning English Light Verb Constructions: Con...</td>\n",
       "      <td>[{'name': 'Yuancheng Tu', 'id': '2161005799', ...</td>\n",
       "      <td>{'raw': 'meeting of the association for comput...</td>\n",
       "      <td>2011</td>\n",
       "      <td>28</td>\n",
       "      <td>31</td>\n",
       "      <td>39</td>\n",
       "      <td>Conference</td>\n",
       "      <td>Association for Computational Linguistics</td>\n",
       "      <td></td>\n",
       "      <td></td>\n",
       "      <td>[40123913, 85238235, 1498763386, 1579558000, 1...</td>\n",
       "      <td>{'IndexLength': 138, 'InvertedIndex': {'In': [...</td>\n",
       "      <td>[{'name': 'Light verb', 'w': 0.556838751}, {'n...</td>\n",
       "      <td>NaN</td>\n",
       "    </tr>\n",
       "    <tr>\n",
       "      <th>1</th>\n",
       "      <td>101796631</td>\n",
       "      <td>A SVM-Based Model for Chinese Functional Chunk...</td>\n",
       "      <td>[{'name': 'Yingze Zhao', 'id': '2616090506'}, ...</td>\n",
       "      <td>{'raw': 'meeting of the association for comput...</td>\n",
       "      <td>2006</td>\n",
       "      <td>3</td>\n",
       "      <td>94</td>\n",
       "      <td>101</td>\n",
       "      <td>Conference</td>\n",
       "      <td></td>\n",
       "      <td></td>\n",
       "      <td></td>\n",
       "      <td>[1623072288, 1823542770, 1954417598, 198899550...</td>\n",
       "      <td>{'IndexLength': 105, 'InvertedIndex': {'Functi...</td>\n",
       "      <td>[{'name': 'Predicate (grammar)', 'w': 0.455723...</td>\n",
       "      <td>NaN</td>\n",
       "    </tr>\n",
       "    <tr>\n",
       "      <th>2</th>\n",
       "      <td>1019104620</td>\n",
       "      <td>A Generative Model of Vector Space Semantics</td>\n",
       "      <td>[{'name': 'Jacob Andreas', 'id': '2558501541',...</td>\n",
       "      <td>{'raw': 'meeting of the association for comput...</td>\n",
       "      <td>2013</td>\n",
       "      <td>5</td>\n",
       "      <td>91</td>\n",
       "      <td>99</td>\n",
       "      <td>Conference</td>\n",
       "      <td></td>\n",
       "      <td></td>\n",
       "      <td></td>\n",
       "      <td>[170166889, 1549334072, 1608322251, 1880262756...</td>\n",
       "      <td>{'IndexLength': 104, 'InvertedIndex': {'We': [...</td>\n",
       "      <td>[{'name': 'Computer science', 'w': 0.4223011},...</td>\n",
       "      <td>NaN</td>\n",
       "    </tr>\n",
       "    <tr>\n",
       "      <th>3</th>\n",
       "      <td>102083554</td>\n",
       "      <td>UBA: Using Automatic Translation and Wikipedia...</td>\n",
       "      <td>[{'name': 'Pierpaolo Basile', 'id': '213524799...</td>\n",
       "      <td>{'raw': 'meeting of the association for comput...</td>\n",
       "      <td>2010</td>\n",
       "      <td>6</td>\n",
       "      <td>242</td>\n",
       "      <td>247</td>\n",
       "      <td>Conference</td>\n",
       "      <td>Association for Computational Linguistics</td>\n",
       "      <td></td>\n",
       "      <td></td>\n",
       "      <td>[2092689630, 2128514324, 2153225416, 217998488...</td>\n",
       "      <td>{'IndexLength': 193, 'InvertedIndex': {'This':...</td>\n",
       "      <td>[{'name': 'Exploit', 'w': 0.40942737500000004}...</td>\n",
       "      <td>NaN</td>\n",
       "    </tr>\n",
       "    <tr>\n",
       "      <th>4</th>\n",
       "      <td>102440339</td>\n",
       "      <td>Learning Morphology with Pair Hidden Markov Mo...</td>\n",
       "      <td>[{'name': 'Alexander Clark', 'id': '2586934785...</td>\n",
       "      <td>{'raw': 'meeting of the association for comput...</td>\n",
       "      <td>2001</td>\n",
       "      <td>21</td>\n",
       "      <td>55</td>\n",
       "      <td>60</td>\n",
       "      <td>Conference</td>\n",
       "      <td></td>\n",
       "      <td></td>\n",
       "      <td></td>\n",
       "      <td>[1513168562, 1797345057, 2009570821, 210244363...</td>\n",
       "      <td>{'IndexLength': 66, 'InvertedIndex': {'In': [0...</td>\n",
       "      <td>[{'name': 'Variable-order Bayesian network', '...</td>\n",
       "      <td>NaN</td>\n",
       "    </tr>\n",
       "    <tr>\n",
       "      <th>5</th>\n",
       "      <td>102951417</td>\n",
       "      <td>Improving summarization through rhetorical par...</td>\n",
       "      <td>[{'name': 'Daniel Marcu', 'id': '1853234685', ...</td>\n",
       "      <td>{'raw': 'meeting of the association for comput...</td>\n",
       "      <td>1998</td>\n",
       "      <td>74</td>\n",
       "      <td></td>\n",
       "      <td></td>\n",
       "      <td>Conference</td>\n",
       "      <td></td>\n",
       "      <td></td>\n",
       "      <td></td>\n",
       "      <td>[40273907, 1667614912, 1828401780, 1967752093,...</td>\n",
       "      <td>NaN</td>\n",
       "      <td>[{'name': 'Natural language processing', 'w': ...</td>\n",
       "      <td>NaN</td>\n",
       "    </tr>\n",
       "    <tr>\n",
       "      <th>6</th>\n",
       "      <td>104385336</td>\n",
       "      <td>SZTERGAK : Feature Engineering for Keyphrase E...</td>\n",
       "      <td>[{'name': 'Gábor Berend', 'id': '2432553231', ...</td>\n",
       "      <td>{'raw': 'meeting of the association for comput...</td>\n",
       "      <td>2010</td>\n",
       "      <td>13</td>\n",
       "      <td>186</td>\n",
       "      <td>189</td>\n",
       "      <td>Conference</td>\n",
       "      <td>Association for Computational Linguistics</td>\n",
       "      <td></td>\n",
       "      <td></td>\n",
       "      <td>[1490343430, 1907578970, 2045181608, 206077262...</td>\n",
       "      <td>{'IndexLength': 88, 'InvertedIndex': {'Automat...</td>\n",
       "      <td>[{'name': 'Supervised learning', 'w': 0.521146...</td>\n",
       "      <td>NaN</td>\n",
       "    </tr>\n",
       "    <tr>\n",
       "      <th>7</th>\n",
       "      <td>105490757</td>\n",
       "      <td>Designing Special Post-Processing Rules for SV...</td>\n",
       "      <td>[{'name': 'Muhua Zhu', 'id': '2628080501', 'or...</td>\n",
       "      <td>{'raw': 'meeting of the association for comput...</td>\n",
       "      <td>2006</td>\n",
       "      <td>6</td>\n",
       "      <td>217</td>\n",
       "      <td>220</td>\n",
       "      <td>Conference</td>\n",
       "      <td></td>\n",
       "      <td></td>\n",
       "      <td></td>\n",
       "      <td>[1979145089, 2117400858, 2785522575]</td>\n",
       "      <td>{'IndexLength': 95, 'InvertedIndex': {'We': [0...</td>\n",
       "      <td>[{'name': 'Speech recognition', 'w': 0.4611401...</td>\n",
       "      <td>NaN</td>\n",
       "    </tr>\n",
       "    <tr>\n",
       "      <th>8</th>\n",
       "      <td>106250223</td>\n",
       "      <td>Recognizing Arguing Subjectivity and Argument ...</td>\n",
       "      <td>[{'name': 'Alexander Conrad', 'id': '212173274...</td>\n",
       "      <td>{'raw': 'meeting of the association for comput...</td>\n",
       "      <td>2012</td>\n",
       "      <td>27</td>\n",
       "      <td>80</td>\n",
       "      <td>88</td>\n",
       "      <td>Conference</td>\n",
       "      <td>Association for Computational Linguistics</td>\n",
       "      <td></td>\n",
       "      <td></td>\n",
       "      <td>[44262497, 1548608284, 1563792215, 2022204871,...</td>\n",
       "      <td>{'IndexLength': 128, 'InvertedIndex': {'In': [...</td>\n",
       "      <td>[{'name': 'Parsing', 'w': 0.487827063}, {'name...</td>\n",
       "      <td>NaN</td>\n",
       "    </tr>\n",
       "    <tr>\n",
       "      <th>9</th>\n",
       "      <td>106483518</td>\n",
       "      <td>Very Large Lexical Databases.</td>\n",
       "      <td>[{'name': 'James Pustejovsky', 'id': '19915186...</td>\n",
       "      <td>{'raw': 'meeting of the association for comput...</td>\n",
       "      <td>2001</td>\n",
       "      <td>0</td>\n",
       "      <td>2</td>\n",
       "      <td></td>\n",
       "      <td>Conference</td>\n",
       "      <td></td>\n",
       "      <td></td>\n",
       "      <td></td>\n",
       "      <td>NaN</td>\n",
       "      <td>NaN</td>\n",
       "      <td>[{'name': 'Artificial intelligence', 'w': 0.0}...</td>\n",
       "      <td>NaN</td>\n",
       "    </tr>\n",
       "  </tbody>\n",
       "</table>\n",
       "</div>"
      ],
      "text/plain": [
       "           id                                              title  \\\n",
       "0   100638832  Learning English Light Verb Constructions: Con...   \n",
       "1   101796631  A SVM-Based Model for Chinese Functional Chunk...   \n",
       "2  1019104620       A Generative Model of Vector Space Semantics   \n",
       "3   102083554  UBA: Using Automatic Translation and Wikipedia...   \n",
       "4   102440339  Learning Morphology with Pair Hidden Markov Mo...   \n",
       "5   102951417  Improving summarization through rhetorical par...   \n",
       "6   104385336  SZTERGAK : Feature Engineering for Keyphrase E...   \n",
       "7   105490757  Designing Special Post-Processing Rules for SV...   \n",
       "8   106250223  Recognizing Arguing Subjectivity and Argument ...   \n",
       "9   106483518                      Very Large Lexical Databases.   \n",
       "\n",
       "                                             authors  \\\n",
       "0  [{'name': 'Yuancheng Tu', 'id': '2161005799', ...   \n",
       "1  [{'name': 'Yingze Zhao', 'id': '2616090506'}, ...   \n",
       "2  [{'name': 'Jacob Andreas', 'id': '2558501541',...   \n",
       "3  [{'name': 'Pierpaolo Basile', 'id': '213524799...   \n",
       "4  [{'name': 'Alexander Clark', 'id': '2586934785...   \n",
       "5  [{'name': 'Daniel Marcu', 'id': '1853234685', ...   \n",
       "6  [{'name': 'Gábor Berend', 'id': '2432553231', ...   \n",
       "7  [{'name': 'Muhua Zhu', 'id': '2628080501', 'or...   \n",
       "8  [{'name': 'Alexander Conrad', 'id': '212173274...   \n",
       "9  [{'name': 'James Pustejovsky', 'id': '19915186...   \n",
       "\n",
       "                                               venue  year  n_citation  \\\n",
       "0  {'raw': 'meeting of the association for comput...  2011          28   \n",
       "1  {'raw': 'meeting of the association for comput...  2006           3   \n",
       "2  {'raw': 'meeting of the association for comput...  2013           5   \n",
       "3  {'raw': 'meeting of the association for comput...  2010           6   \n",
       "4  {'raw': 'meeting of the association for comput...  2001          21   \n",
       "5  {'raw': 'meeting of the association for comput...  1998          74   \n",
       "6  {'raw': 'meeting of the association for comput...  2010          13   \n",
       "7  {'raw': 'meeting of the association for comput...  2006           6   \n",
       "8  {'raw': 'meeting of the association for comput...  2012          27   \n",
       "9  {'raw': 'meeting of the association for comput...  2001           0   \n",
       "\n",
       "  page_start page_end    doc_type                                  publisher  \\\n",
       "0         31       39  Conference  Association for Computational Linguistics   \n",
       "1         94      101  Conference                                              \n",
       "2         91       99  Conference                                              \n",
       "3        242      247  Conference  Association for Computational Linguistics   \n",
       "4         55       60  Conference                                              \n",
       "5                      Conference                                              \n",
       "6        186      189  Conference  Association for Computational Linguistics   \n",
       "7        217      220  Conference                                              \n",
       "8         80       88  Conference  Association for Computational Linguistics   \n",
       "9          2           Conference                                              \n",
       "\n",
       "  volume issue                                         references  \\\n",
       "0               [40123913, 85238235, 1498763386, 1579558000, 1...   \n",
       "1               [1623072288, 1823542770, 1954417598, 198899550...   \n",
       "2               [170166889, 1549334072, 1608322251, 1880262756...   \n",
       "3               [2092689630, 2128514324, 2153225416, 217998488...   \n",
       "4               [1513168562, 1797345057, 2009570821, 210244363...   \n",
       "5               [40273907, 1667614912, 1828401780, 1967752093,...   \n",
       "6               [1490343430, 1907578970, 2045181608, 206077262...   \n",
       "7                            [1979145089, 2117400858, 2785522575]   \n",
       "8               [44262497, 1548608284, 1563792215, 2022204871,...   \n",
       "9                                                             NaN   \n",
       "\n",
       "                                    indexed_abstract  \\\n",
       "0  {'IndexLength': 138, 'InvertedIndex': {'In': [...   \n",
       "1  {'IndexLength': 105, 'InvertedIndex': {'Functi...   \n",
       "2  {'IndexLength': 104, 'InvertedIndex': {'We': [...   \n",
       "3  {'IndexLength': 193, 'InvertedIndex': {'This':...   \n",
       "4  {'IndexLength': 66, 'InvertedIndex': {'In': [0...   \n",
       "5                                                NaN   \n",
       "6  {'IndexLength': 88, 'InvertedIndex': {'Automat...   \n",
       "7  {'IndexLength': 95, 'InvertedIndex': {'We': [0...   \n",
       "8  {'IndexLength': 128, 'InvertedIndex': {'In': [...   \n",
       "9                                                NaN   \n",
       "\n",
       "                                                 fos  doi  \n",
       "0  [{'name': 'Light verb', 'w': 0.556838751}, {'n...  NaN  \n",
       "1  [{'name': 'Predicate (grammar)', 'w': 0.455723...  NaN  \n",
       "2  [{'name': 'Computer science', 'w': 0.4223011},...  NaN  \n",
       "3  [{'name': 'Exploit', 'w': 0.40942737500000004}...  NaN  \n",
       "4  [{'name': 'Variable-order Bayesian network', '...  NaN  \n",
       "5  [{'name': 'Natural language processing', 'w': ...  NaN  \n",
       "6  [{'name': 'Supervised learning', 'w': 0.521146...  NaN  \n",
       "7  [{'name': 'Speech recognition', 'w': 0.4611401...  NaN  \n",
       "8  [{'name': 'Parsing', 'w': 0.487827063}, {'name...  NaN  \n",
       "9  [{'name': 'Artificial intelligence', 'w': 0.0}...  NaN  "
      ]
     },
     "execution_count": 3,
     "metadata": {},
     "output_type": "execute_result"
    }
   ],
   "source": [
    "df.head(10)"
   ]
  },
  {
   "cell_type": "code",
   "execution_count": 4,
   "metadata": {},
   "outputs": [
    {
     "data": {
      "text/plain": [
       "(76011, 16)"
      ]
     },
     "execution_count": 4,
     "metadata": {},
     "output_type": "execute_result"
    }
   ],
   "source": [
    "df.shape"
   ]
  },
  {
   "cell_type": "code",
   "execution_count": 5,
   "metadata": {},
   "outputs": [
    {
     "data": {
      "image/png": "[encoded data removed]",
      "text/plain": [
       "<Figure size 432x288 with 1 Axes>"
      ]
     },
     "metadata": {
      "needs_background": "light"
     },
     "output_type": "display_data"
    }
   ],
   "source": [
    "plt.hist(df[\"doc_type\"])\n",
    "plt.show()"
   ]
  },
  {
   "cell_type": "code",
   "execution_count": 6,
   "metadata": {},
   "outputs": [
    {
     "data": {
      "text/plain": [
       "Counter({'Conference': 75938, 'Patent': 73})"
      ]
     },
     "execution_count": 6,
     "metadata": {},
     "output_type": "execute_result"
    }
   ],
   "source": [
    "Counter(df[\"doc_type\"])"
   ]
  },
  {
   "cell_type": "code",
   "execution_count": 7,
   "metadata": {},
   "outputs": [
    {
     "data": {
      "text/plain": [
       "13949"
      ]
     },
     "execution_count": 7,
     "metadata": {},
     "output_type": "execute_result"
    }
   ],
   "source": [
    "pub_ctn=Counter(df[\"publisher\"])\n",
    "pub_ctn.pop(\"\")"
   ]
  },
  {
   "cell_type": "code",
   "execution_count": 8,
   "metadata": {},
   "outputs": [
    {
     "data": {
      "image/png": "[encoded data removed]",
      "text/plain": [
       "<Figure size 432x288 with 1 Axes>"
      ]
     },
     "metadata": {
      "needs_background": "light"
     },
     "output_type": "display_data"
    }
   ],
   "source": [
    "plt.hist([log(i) for i in pub_ctn.values()])\n",
    "plt.show()"
   ]
  },
  {
   "cell_type": "code",
   "execution_count": 9,
   "metadata": {},
   "outputs": [
    {
     "data": {
      "image/png": "[encoded data removed]",
      "text/plain": [
       "<Figure size 432x288 with 1 Axes>"
      ]
     },
     "metadata": {
      "needs_background": "light"
     },
     "output_type": "display_data"
    }
   ],
   "source": [
    "plt.hist(df[\"year\"])\n",
    "plt.show()"
   ]
  },
  {
   "cell_type": "code",
   "execution_count": 10,
   "metadata": {},
   "outputs": [
    {
     "data": {
      "image/png": "[encoded data removed]",
      "text/plain": [
       "<Figure size 432x288 with 1 Axes>"
      ]
     },
     "metadata": {
      "needs_background": "light"
     },
     "output_type": "display_data"
    }
   ],
   "source": [
    "df['n_citation'] = df['n_citation'].apply(int)\n",
    "\n",
    "plt.hist((df[\"n_citation\"]+1).apply(log))\n",
    "plt.show()"
   ]
  },
  {
   "cell_type": "code",
   "execution_count": 11,
   "metadata": {},
   "outputs": [],
   "source": [
    "def castInt(x):\n",
    "    try:\n",
    "        return int(x)\n",
    "    except:\n",
    "        return 0"
   ]
  },
  {
   "cell_type": "code",
   "execution_count": 12,
   "metadata": {},
   "outputs": [],
   "source": [
    "df['page_end'] = df['page_end'].apply(castInt)\n",
    "df['page_start'] = df['page_start'].apply(castInt)"
   ]
  },
  {
   "cell_type": "code",
   "execution_count": 35,
   "metadata": {},
   "outputs": [
    {
     "data": {
      "text/plain": [
       "[0        8\n",
       " 1        7\n",
       " 2        8\n",
       " 3        5\n",
       " 4        5\n",
       "         ..\n",
       " 76006    0\n",
       " 76007    7\n",
       " 76008    9\n",
       " 76009    0\n",
       " 76010    0\n",
       " Length: 76011, dtype: int64]"
      ]
     },
     "execution_count": 35,
     "metadata": {},
     "output_type": "execute_result"
    }
   ],
   "source": [
    "[df['page_end'] - df['page_start']]"
   ]
  },
  {
   "cell_type": "code",
   "execution_count": 37,
   "metadata": {},
   "outputs": [],
   "source": [
    "ctn=Counter(df['page_end'] - df['page_start'])"
   ]
  },
  {
   "cell_type": "code",
   "execution_count": 40,
   "metadata": {},
   "outputs": [
    {
     "data": {
      "image/png": "[encoded data removed]",
      "text/plain": [
       "<Figure size 432x288 with 1 Axes>"
      ]
     },
     "metadata": {
      "needs_background": "light"
     },
     "output_type": "display_data"
    }
   ],
   "source": [
    "plt.hist([ctn[k] for k in ctn])\n",
    "plt.show()"
   ]
  },
  {
   "cell_type": "code",
   "execution_count": 39,
   "metadata": {},
   "outputs": [
    {
     "data": {
      "image/png": "[encoded data removed]",
      "text/plain": [
       "<Figure size 432x288 with 1 Axes>"
      ]
     },
     "metadata": {
      "needs_background": "light"
     },
     "output_type": "display_data"
    }
   ],
   "source": [
    "plt.hist([ctn[k] for k in ctn if 1<ctn[k]<100])\n",
    "plt.show()"
   ]
  },
  {
   "cell_type": "code",
   "execution_count": null,
   "metadata": {},
   "outputs": [],
   "source": [
    "# must be no smaller than 1 page\n",
    "# >100: outliers\n",
    "df['pageNum'] = df.apply(lambda df: min(max(df['page_end'] - df['page_start'], 1),100), axis=1)"
   ]
  },
  {
   "cell_type": "code",
   "execution_count": 13,
   "metadata": {},
   "outputs": [
    {
     "data": {
      "text/plain": [
       "count    76011.000000\n",
       "mean         6.792083\n",
       "std          3.797333\n",
       "min          1.000000\n",
       "25%          5.000000\n",
       "50%          7.000000\n",
       "75%          8.000000\n",
       "max        100.000000\n",
       "Name: pageNum, dtype: float64"
      ]
     },
     "execution_count": 13,
     "metadata": {},
     "output_type": "execute_result"
    }
   ],
   "source": [
    "df['pageNum'].describe()"
   ]
  },
  {
   "cell_type": "code",
   "execution_count": 14,
   "metadata": {},
   "outputs": [
    {
     "data": {
      "image/png": "[encoded data removed]",
      "text/plain": [
       "<Figure size 432x288 with 1 Axes>"
      ]
     },
     "metadata": {
      "needs_background": "light"
     },
     "output_type": "display_data"
    }
   ],
   "source": [
    "plt.hist(df['pageNum'].apply(log))\n",
    "plt.show()"
   ]
  },
  {
   "cell_type": "code",
   "execution_count": 15,
   "metadata": {},
   "outputs": [],
   "source": [
    "def castLen(x):\n",
    "    try:\n",
    "        return len(x)\n",
    "    except:\n",
    "        return 0"
   ]
  },
  {
   "cell_type": "code",
   "execution_count": 16,
   "metadata": {},
   "outputs": [],
   "source": [
    "df['refNum'] = df.apply(lambda df: castLen(df[\"references\"]), axis=1)"
   ]
  },
  {
   "cell_type": "code",
   "execution_count": 23,
   "metadata": {},
   "outputs": [
    {
     "data": {
      "text/plain": [
       "[{'name': 'Predicate (grammar)', 'w': 0.45572385200000004},\n",
       " {'name': 'Parsing', 'w': 0.5548242},\n",
       " {'name': 'Support vector machine', 'w': 0.5176992420000001},\n",
       " {'name': 'Binary classification', 'w': 0.45089224},\n",
       " {'name': 'Top-down and bottom-up design', 'w': 0.4584853},\n",
       " {'name': 'Machine learning', 'w': 0.464945555},\n",
       " {'name': 'Chunking (psychology)', 'w': 0.5924408},\n",
       " {'name': 'Pattern recognition', 'w': 0.46912616500000004},\n",
       " {'name': 'Artificial intelligence', 'w': 0.0},\n",
       " {'name': 'Computer science', 'w': 0.412245631},\n",
       " {'name': 'Sentence', 'w': 0.5030235}]"
      ]
     },
     "execution_count": 23,
     "metadata": {},
     "output_type": "execute_result"
    }
   ],
   "source": [
    "df[\"fos\"][1]"
   ]
  },
  {
   "cell_type": "code",
   "execution_count": 25,
   "metadata": {},
   "outputs": [
    {
     "name": "stdout",
     "output_type": "stream",
     "text": [
      "0.5924408\n"
     ]
    }
   ],
   "source": [
    "print(max([i[\"w\"] for i in df[\"fos\"][1]]))"
   ]
  },
  {
   "cell_type": "code",
   "execution_count": 31,
   "metadata": {},
   "outputs": [],
   "source": [
    "def castFos(df):\n",
    "    try:\n",
    "        return max([i[\"w\"] for i in df[\"fos\"]])\n",
    "    except:\n",
    "        return 0"
   ]
  },
  {
   "cell_type": "code",
   "execution_count": 32,
   "metadata": {},
   "outputs": [],
   "source": [
    "df['maxFos'] = df.apply(lambda x: castFos(x), axis=1)"
   ]
  },
  {
   "cell_type": "code",
   "execution_count": 33,
   "metadata": {},
   "outputs": [
    {
     "data": {
      "text/plain": [
       "0        0.556839\n",
       "1        0.592441\n",
       "2        0.582053\n",
       "3        0.597128\n",
       "4        0.584847\n",
       "           ...   \n",
       "76006    0.772239\n",
       "76007    0.629271\n",
       "76008    0.715885\n",
       "76009    0.602447\n",
       "76010    0.533532\n",
       "Name: maxFos, Length: 76011, dtype: float64"
      ]
     },
     "execution_count": 33,
     "metadata": {},
     "output_type": "execute_result"
    }
   ],
   "source": [
    "df['maxFos']"
   ]
  },
  {
   "cell_type": "code",
   "execution_count": 34,
   "metadata": {},
   "outputs": [
    {
     "data": {
      "text/html": [
       "<div>\n",
       "<style scoped>\n",
       "    .dataframe tbody tr th:only-of-type {\n",
       "        vertical-align: middle;\n",
       "    }\n",
       "\n",
       "    .dataframe tbody tr th {\n",
       "        vertical-align: top;\n",
       "    }\n",
       "\n",
       "    .dataframe thead th {\n",
       "        text-align: right;\n",
       "    }\n",
       "</style>\n",
       "<table border=\"1\" class=\"dataframe\">\n",
       "  <thead>\n",
       "    <tr style=\"text-align: right;\">\n",
       "      <th></th>\n",
       "      <th>n_citation</th>\n",
       "      <th>pageNum</th>\n",
       "      <th>refNum</th>\n",
       "      <th>maxFos</th>\n",
       "    </tr>\n",
       "  </thead>\n",
       "  <tbody>\n",
       "    <tr>\n",
       "      <th>n_citation</th>\n",
       "      <td>1.000000</td>\n",
       "      <td>0.056279</td>\n",
       "      <td>0.047943</td>\n",
       "      <td>0.040836</td>\n",
       "    </tr>\n",
       "    <tr>\n",
       "      <th>pageNum</th>\n",
       "      <td>0.056279</td>\n",
       "      <td>1.000000</td>\n",
       "      <td>0.376698</td>\n",
       "      <td>-0.033972</td>\n",
       "    </tr>\n",
       "    <tr>\n",
       "      <th>refNum</th>\n",
       "      <td>0.047943</td>\n",
       "      <td>0.376698</td>\n",
       "      <td>1.000000</td>\n",
       "      <td>-0.020339</td>\n",
       "    </tr>\n",
       "    <tr>\n",
       "      <th>maxFos</th>\n",
       "      <td>0.040836</td>\n",
       "      <td>-0.033972</td>\n",
       "      <td>-0.020339</td>\n",
       "      <td>1.000000</td>\n",
       "    </tr>\n",
       "  </tbody>\n",
       "</table>\n",
       "</div>"
      ],
      "text/plain": [
       "            n_citation   pageNum    refNum    maxFos\n",
       "n_citation    1.000000  0.056279  0.047943  0.040836\n",
       "pageNum       0.056279  1.000000  0.376698 -0.033972\n",
       "refNum        0.047943  0.376698  1.000000 -0.020339\n",
       "maxFos        0.040836 -0.033972 -0.020339  1.000000"
      ]
     },
     "execution_count": 34,
     "metadata": {},
     "output_type": "execute_result"
    }
   ],
   "source": [
    "df[['n_citation','pageNum','refNum','maxFos']].corr()"
   ]
  }
 ],
 "metadata": {
  "kernelspec": {
   "display_name": "Python 3",
   "language": "python",
   "name": "python3"
  },
  "language_info": {
   "codemirror_mode": {
    "name": "ipython",
    "version": 3
   },
   "file_extension": ".py",
   "mimetype": "text/x-python",
   "name": "python",
   "nbconvert_exporter": "python",
   "pygments_lexer": "ipython3",
   "version": "3.7.0"
  }
 },
 "nbformat": 4,
 "nbformat_minor": 2
}
